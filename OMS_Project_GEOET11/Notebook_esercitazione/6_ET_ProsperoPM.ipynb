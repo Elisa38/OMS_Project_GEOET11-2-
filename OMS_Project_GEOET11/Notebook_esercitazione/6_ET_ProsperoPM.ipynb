{
 "cells": [
  {
   "cell_type": "code",
   "execution_count": null,
   "metadata": {},
   "outputs": [],
   "source": [
    "##si prende l'evaporazione dal modello di PM e invece la traspirazione si prende da Prospero, si sommano le due"
   ]
  },
  {
   "cell_type": "markdown",
   "metadata": {},
   "source": [
    "# **GEOET - EvapoTranspiration Penman-MonteithFAO & Prospero**\n",
    "\n",
    "- Author Concetta D'Amato, Niccolò Tubini, Michele Bottazzi and Riccardo Rigon \n",
    "\n",
    "This work is licensed under a Creative Commons Attribution-NonCommercial 4.0 International License\n",
    "____\n",
    "\n",
    "### *What about Prospero*\n",
    "\n",
    "Bottazzi, Michele. n.d. “[Transpiration Theory and the Prospero Component of GEOframe](https://paperpile.com/shared/yN2wjv).” Supervised by R. Rigon and G. Bertoldi. Ph.D., Civil, Environmental and Mechanical Engineering of University of Trento. \n",
    "\n",
    "More informations http://abouthydrology.blogspot.com/2020/07/michele-bottazzi-phd-thesis.html"
   ]
  },
  {
   "cell_type": "code",
   "execution_count": null,
   "metadata": {},
   "outputs": [],
   "source": [
    "import os\n",
    "import warnings\n",
    "import datetime\n",
    "import warnings\n",
    "import numpy as np\n",
    "import pandas as pd\n",
    "import xarray as xr\n",
    "from matplotlib import rc\n",
    "import plotly.express as px\n",
    "import matplotlib.pyplot as plt\n",
    "import matplotlib.style as style\n",
    "import matplotlib.dates as mdates\n",
    "from IPython.display import Image\n",
    "from GEOSPACE_Output import*\n",
    "warnings.filterwarnings('ignore')\n",
    "warnings.simplefilter(action='ignore', category=FutureWarning)\n",
    "oms_project_path = os.path.dirname(os.getcwd())"
   ]
  },
  {
   "cell_type": "code",
   "execution_count": null,
   "metadata": {},
   "outputs": [],
   "source": [
    "Image(oms_project_path+\"/Images/Pro.png\")"
   ]
  },
  {
   "cell_type": "markdown",
   "metadata": {
    "tags": []
   },
   "source": [
    "## **Evaporation from soil**"
   ]
  },
  {
   "cell_type": "markdown",
   "metadata": {},
   "source": [
    "Evaporation from soil is computed with a **Penman-Monteith FAO model**, with specific coefficients for soil evaporation depending on the case study and considering the *net radiation* that overcome plant and affects the soil."
   ]
  },
  {
   "cell_type": "markdown",
   "metadata": {},
   "source": [
    "\\begin{equation}\n",
    "ET_{0} =  \\dfrac{0.408\\cdot \\Delta\\cdot (R_{n} - G)+\\gamma\\cdot u_{2}\\cdot(e_{s}-e)\\cdot\\frac{C_{p}}{T+273}}{\\lambda(\\Delta+\\gamma\\cdot(1+C_{d}\\cdot u_{2}))}\n",
    "\\end{equation}\n",
    "\n",
    "where:\n",
    "- $ET_{0}$ is expressed in [$mm \\cdot day^{−1}$] or [$mm\\cdot hour^{−1}$]; \n",
    "- $R_{n}$ is the net radiation expressed in [$MJ \\cdot m^{2} \\cdot day^{−1}$] or [$MJ \\cdot m^{2}\\cdot h^{−1}$]; \n",
    "- $G$ is the soil heat flux at the soil surface in [$MJ \\cdot m^{2} \\cdot day^{−1}$] or [$MJ \\cdot m^{2}\\cdot h^{−1}$]; \n",
    "- $T$ is the mean daily or hourly air temperature expressed in (°C) ; \n",
    "- $u_{2}$ is the wind speed in ($m\\cdot s^{−1}$); \n",
    "- $e_{s}$ is the mean saturation vapor-pressure expressed in ($kP_{a}$); \n",
    "- $e$ is the mean actual vapor-pressure; \n",
    "- $\\Delta$ is the slope of the saturation vapor-pressure curve expressed in ($kP_{a}\\dot °C^{−1}$); \n",
    "- $\\gamma$ is the psychometric constant expressed in ($kP_{a} \\cdot$ °$C^{−1}$); \n",
    "- $\\lambda$ is the latent heat constant constant expressed in ($J \\cdot$ $kg^{−1}$); \n",
    "- $C_{d}$ is a coefficient equal to 0.34 and $C_{p}$ is a coefficient equal to 900 in the case of a daily time step and equal to 37 in the case of a hourly time step."
   ]
  },
  {
   "cell_type": "markdown",
   "metadata": {},
   "source": [
    "## **Transpiration**"
   ]
  },
  {
   "cell_type": "markdown",
   "metadata": {},
   "source": [
    "In Prospero the transpiration is computed starting from the [Schymanski and Or method](https://hess.copernicus.org/articles/21/685/2017/)  and modified in order to include the dependence from transpiring surface, the conductance model of the stomata, other than the mass conservation.  \n",
    "\n",
    "Prospero solves a four linear equation system and compute the leaf temperature, the vapour pressure, the sensible heat and the latent heat:"
   ]
  },
  {
   "cell_type": "markdown",
   "metadata": {},
   "source": [
    "\\begin{equation}\n",
    "   \\begin{cases}\n",
    "   T_{\\Delta}=\\frac{\\gamma}{a_{sH}\\ C_{Dr}\\gamma+a_{sE}\\ C_{Da}\\Delta_{e{T}}}\\cdot\\frac{R_{s}-R_{ll}-S_{nk}}{\\rho_{a} \\bar u c_{p}}-\\frac{C_{Da}}{a_{sH}\\ C_{Dr}\\gamma+a_{sE}\\ C_{Da}\\Delta_{e{T}}}\\cdot \\delta e(z)\\\\e_{\\Delta}=\\frac{\\gamma\\Delta_{e{T}}}{a_{sH}\\ C_{Dr}\\gamma+a_{sH}\\ C_{Da}\\Delta_{e{T}}}\\cdot\\frac{R_{s}-R_{ll}-S_{nk}}{\\rho_{a} \\bar u c_{p}}-\\frac{a_{sH}\\ C_{Dr}\\gamma+(a_{sE}-1)\\ C_{Da}\\Delta_{e{T}}}{a_{sH}\\ C_{Dr}\\gamma+a_{sH}\\ C_{Da}\\Delta_{e{T}}}\\cdot \\delta e(z)\\\\H=\\frac{C_{Dr}\\gamma}{a_{sH} C_{Dr}\\gamma+a_{sE}C_{Da}\\Delta_{e{T}}}\\cdot(R_{s}-R_{ll}-S_{nk})+\\frac{\\rho_{a}\\bar u\\ c_{p}\\ C_{Dr}\\ C_{Da}}{a_{sH}\\ C_{Dr}\\gamma+a_{sE}\\ C_{Da}\\Delta_{e{T}}}\\cdot \\delta e(z)\\\\\\lambda E_{T}=\\frac{C_{Da}\\Delta_{e{T}}}{ C_{Dr}\\gamma+a_{sE}C_{Da}\\Delta_{e{T}}}\\cdot(R_{s}-R_{ll}-S_{nk})+\\frac{\\rho_{a}\\bar u\\ c_{p}\\ a_{sE}\\ C_{Dr}\\ C_{Da}\\ +(a_{sE}-1)\\ C_{Da}^2\\Delta_{e{T}}\\gamma^{-1} }{a_{sH}\\ C_{Dr}\\gamma+a_{sE}\\ C_{Da}\\Delta_{e{T}}}\\cdot \\delta e(z)\n",
    "   \\end{cases} \n",
    "\\end{equation}"
   ]
  },
  {
   "cell_type": "markdown",
   "metadata": {},
   "source": [
    "Prospero computes the actual evapotranspiration multiplying the Potential Evapotranspiration for a total stress factor $g_{s}$.\n",
    "\\begin{equation}\n",
    "ET_{eff}=ET_{pot}\\cdot g_{s}\n",
    "\\end{equation}\n",
    "\n",
    "\\begin{equation}\n",
    "g_{s} = g_{s}max\\cdot f(R_{par})\\cdot f(T_{a})\\cdot f(VPD) \\cdot K_{s}\n",
    "\\end{equation}\n",
    "\n",
    "where:\n",
    "- $g_{s}max $ is the conductance without any kind of stress and in well-watered conditions;\n",
    "- $f(R_{par})$ is the stress coefficient as a function of photosynthetically active radiation;\n",
    "- $f(T_{a})$ is the stress coefficient as a function of the air temperature;\n",
    "- $f(VPD) $ is the stress coefficient as a function of the vapor pressure deficit;\n",
    "- $K_{s} $ is the stress coefficient as a function of the water content."
   ]
  },
  {
   "cell_type": "markdown",
   "metadata": {},
   "source": [
    "## Input required:\n",
    "- Dem\n",
    "- Centroids\n",
    "- Air temperature\n",
    "- Wind velocity\n",
    "- Relative humidity\n",
    "- Shortwave direct radiation\n",
    "- Shortwave diffuse radiation\n",
    "- Longwave radiation\n",
    "- Net Radiation\n",
    "- Atmospheric pressure\n",
    "- Leaf Area Index (LAI)\n",
    "- Soil water content\n",
    "- Ground Heat Flux"
   ]
  },
  {
   "cell_type": "markdown",
   "metadata": {},
   "source": [
    "## Prospero model Output"
   ]
  },
  {
   "cell_type": "markdown",
   "metadata": {},
   "source": [
    "- Latent heat both for sunlight and shaded canopy [$W/m^{2}$];\n",
    "- Evaporation, Traspiration, Evapotranspiration flux [$W/m^{2}$];\n",
    "- Evapotranspiration [$mm$];\n",
    "- Leaves temperature both for sunlight and shaded canopy [$W/m^{2}$];\n",
    "- Sensible heat both for sunlight and shaded canopy [$W/m^{2}$];\n",
    "- Fraction of highlighted canopy [-];\n",
    "- Shortwave radiation absorbed both for sunlight and shaded canopy [$W/m^{2}$];"
   ]
  },
  {
   "cell_type": "code",
   "execution_count": null,
   "metadata": {},
   "outputs": [],
   "source": [
    "os.chdir(oms_project_path+'/output/Cavone/1')\n",
    "#os.listdir()"
   ]
  },
  {
   "cell_type": "markdown",
   "metadata": {},
   "source": [
    "### **Transpiration  $[W m^{−2}]$**"
   ]
  },
  {
   "cell_type": "code",
   "execution_count": null,
   "metadata": {},
   "outputs": [],
   "source": [
    "df2 = pd.read_csv('FluxTranspiration_1_waterstress.csv',skiprows=6, sep=',', parse_dates=[0], na_values=-9999,usecols=[1,2])\n",
    "df2.columns = ['Datetime','FluxTranspiration']\n",
    "fig = px.line(df2, x='Datetime', y='FluxTranspiration')\n",
    "fig.update_traces(line_color='green')\n",
    "fig.show()"
   ]
  },
  {
   "cell_type": "code",
   "execution_count": null,
   "metadata": {},
   "outputs": [],
   "source": [
    "\n",
    "show_E_T('FluxEvapoTranspiration_1_waterstress.csv',\n",
    "         'FluxEvaporation_1_waterstress.csv',\n",
    "         'FluxTranspiration_1_waterstress.csv')"
   ]
  },
  {
   "cell_type": "code",
   "execution_count": null,
   "metadata": {},
   "outputs": [],
   "source": [
    "##BISOGNEREBBE CREARE UN LAI SINUSOIDALE CHE RICREA L'ANDAMENTO STAGIONALE DELLA PRESENZA DI FOGLIA CHE DIPENDE IN BASE AL PERIODO DELL'ANNO PER AVERE DEI DATI PIù CORRETTI\n",
    "#LA PROF HA CREATO UN L"
   ]
  },
  {
   "cell_type": "code",
   "execution_count": null,
   "metadata": {},
   "outputs": [],
   "source": [
    "#BISOGNA CREARE I FIL E FARLO PARTIRE\n",
    "show_stress('FluxTranspiration_1_potential.csv',\n",
    "            'FluxTranspiration_1_environmentalstress.csv',\n",
    "            'FluxTranspiration_1_totalstress.csv',\n",
    "            'FluxTranspiration_1_waterstress.csv')"
   ]
  },
  {
   "cell_type": "code",
   "execution_count": null,
   "metadata": {},
   "outputs": [],
   "source": [
    "df = pd.read_csv('Evaporation_FAO_1.csv',skiprows=6, sep=',', parse_dates=[0], na_values=-9999,usecols=[1,2])\n",
    "df.columns = ['Datetime','Evaporation']\n",
    "fig = px.line(df, x='Datetime', y='Evaporation', title='Evaporation PenmanMonteithFAO')\n",
    "fig.update_traces(line_color='green')\n",
    "#fig.update_xaxes(rangeslider_visible=True)\n",
    "fig.show()"
   ]
  },
  {
   "cell_type": "code",
   "execution_count": null,
   "metadata": {},
   "outputs": [],
   "source": [
    "df3 = pd.read_csv('StressedEvaporation_FAO_1.csv',skiprows=6, sep=',', parse_dates=[0], na_values=-9999,usecols=[1,2])\n",
    "df3.columns = ['Datetime','Evaporation']\n",
    "fig = px.line(df3, x='Datetime', y='Evaporation', title='Actual Evaporation PenmanMonteithFAO')\n",
    "fig.update_traces(line_color='green')\n",
    "#fig.update_xaxes(rangeslider_visible=True)\n",
    "fig.show()"
   ]
  },
  {
   "cell_type": "code",
   "execution_count": null,
   "metadata": {},
   "outputs": [],
   "source": [
    "fig = px.line()\n",
    "fig.add_trace(go.Scatter(x=df['Datetime'], y=df['Evaporation'], mode='lines', name='Potential E'))\n",
    "fig.add_trace(go.Scatter(x=df3['Datetime'], y=df3['Evaporation'], mode='lines', name='Actual E'))\n",
    "\n",
    "fig.update_layout(\n",
    "    title='Compare Potential and Actual PenmanMonteithFAO Evaporation ',\n",
    "    xaxis_title=\"DateTime\",\n",
    "    font_family=\"Times New Roman\",\n",
    "    font_color=\"Black\",\n",
    "    title_font_family=\"Times New Roman\",\n",
    "    title_font_color=\"Black\",\n",
    "    yaxis_title=\"EvapoTranspiration [mm]\",\n",
    "    #legend_title=\"Date\",\n",
    "    font=dict(size=12))\n",
    "fig.show()"
   ]
  },
  {
   "cell_type": "code",
   "execution_count": null,
   "metadata": {},
   "outputs": [],
   "source": [
    "show_stress('Evaporation_1_potential.csv',\n",
    "            'Evaporation_1_environmentalstress.csv',\n",
    "            'Evaporation_1_totalstress.csv',\n",
    "            'Evaporation_1_waterstress.csv')"
   ]
  },
  {
   "cell_type": "code",
   "execution_count": null,
   "metadata": {},
   "outputs": [],
   "source": [
    "df = pd.read_csv('LT_Sun_1_waterstress.csv',skiprows=6, sep=',', parse_dates=[0], na_values=-9999,usecols=[1,2])\n",
    "df.columns = ['Datetime','LeafTemperature']\n",
    "fig = px.line(df, x='Datetime', y='LeafTemperature', title='Leaf Temperature Sun [K]')\n",
    "fig.update_traces(line_color='green')\n",
    "fig.show()"
   ]
  },
  {
   "cell_type": "code",
   "execution_count": null,
   "metadata": {},
   "outputs": [],
   "source": [
    "df = pd.read_csv('LT_Shade_1_waterstress.csv',skiprows=6, sep=',', parse_dates=[0], na_values=-9999,usecols=[1,2])\n",
    "df.columns = ['Datetime','LeafTemperature']\n",
    "fig = px.line(df, x='Datetime', y='LeafTemperature', title='Leaf Temperature Shadow [K]')\n",
    "fig.update_traces(line_color='green')\n",
    "fig.show()"
   ]
  },
  {
   "cell_type": "code",
   "execution_count": null,
   "metadata": {},
   "outputs": [],
   "source": []
  },
  {
   "cell_type": "code",
   "execution_count": null,
   "metadata": {},
   "outputs": [],
   "source": []
  }
 ],
 "metadata": {
  "kernelspec": {
   "display_name": "Python 3 (ipykernel)",
   "language": "python",
   "name": "python3"
  },
  "language_info": {
   "codemirror_mode": {
    "name": "ipython",
    "version": 3
   },
   "file_extension": ".py",
   "mimetype": "text/x-python",
   "name": "python",
   "nbconvert_exporter": "python",
   "pygments_lexer": "ipython3",
   "version": "3.7.12"
  }
 },
 "nbformat": 4,
 "nbformat_minor": 4
}
