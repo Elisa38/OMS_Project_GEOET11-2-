{
 "cells": [
  {
   "cell_type": "markdown",
   "metadata": {},
   "source": [
    "Complete documentation: https://osf.io/4rd8g/\n",
    "# **GEOET - Soil Evaporation Penman-Monteith FAO** \n",
    "    - Author Concetta D'Amato, Niccolò Tubini, Michele Bottazzi and Riccardo Rigon \n",
    "    - Licence Creative Commons 4.0"
   ]
  },
  {
   "cell_type": "code",
   "execution_count": null,
   "metadata": {},
   "outputs": [],
   "source": [
    "##è la stessa di rima ma non si considera il krop cpefficient, ks e kc perchè consideriamo solo l'evaporazione dal suolo"
   ]
  },
  {
   "cell_type": "markdown",
   "metadata": {
    "tags": []
   },
   "source": [
    "## **Evaporation from soil**"
   ]
  },
  {
   "cell_type": "markdown",
   "metadata": {},
   "source": [
    "Evaporation from soil is computed with a **Penman-Monteith FAO model**, with specific coefficients for soil evaporation depending on the case study and considering the *net radiation* that overcome plant and affects the soil."
   ]
  },
  {
   "cell_type": "markdown",
   "metadata": {},
   "source": [
    "\\begin{equation}\n",
    "ET_{0} =  \\dfrac{0.408\\cdot \\Delta\\cdot (R_{n} - G)+\\gamma\\cdot u_{2}\\cdot(e_{s}-e)\\cdot\\frac{C_{p}}{T+273}}{\\lambda(\\Delta+\\gamma\\cdot(1+C_{d}\\cdot u_{2}))}\n",
    "\\end{equation}\n",
    "\n",
    "where:\n",
    "- $ET_{0}$ is expressed in [$mm \\cdot day^{−1}$] or [$mm\\cdot hour^{−1}$]; \n",
    "- $R_{n}$ is the net radiation expressed in [$MJ \\cdot m^{2} \\cdot day^{−1}$] or [$MJ \\cdot m^{2}\\cdot h^{−1}$]; \n",
    "- $G$ is the soil heat flux at the soil surface in [$MJ \\cdot m^{2} \\cdot day^{−1}$] or [$MJ \\cdot m^{2}\\cdot h^{−1}$]; \n",
    "- $T$ is the mean daily or hourly air temperature expressed in (°C) ; \n",
    "- $u_{2}$ is the wind speed in ($m\\cdot s^{−1}$); \n",
    "- $e_{s}$ is the mean saturation vapor-pressure expressed in ($kP_{a}$); \n",
    "- $e$ is the mean actual vapor-pressure; \n",
    "- $\\Delta$ is the slope of the saturation vapor-pressure curve expressed in ($kP_{a}\\dot °C^{−1}$); \n",
    "- $\\gamma$ is the psychometric constant expressed in ($kP_{a} \\cdot$ °$C^{−1}$); \n",
    "- $\\lambda$ is the latent heat constant constant expressed in ($J \\cdot$ $kg^{−1}$); \n",
    "- $C_{d}$ is a coefficient equal to 0.34 and $C_{p}$ is a coefficient equal to 900 in the case of a daily time step and equal to 37 in the case of a hourly time step."
   ]
  },
  {
   "cell_type": "code",
   "execution_count": null,
   "metadata": {},
   "outputs": [],
   "source": [
    "import pandas as pd\n",
    "import numpy as np\n",
    "import matplotlib.pyplot as plt\n",
    "from IPython.display import Image\n",
    "import plotly.express as px\n",
    "import plotly.graph_objects as go\n",
    "import os\n",
    "from GEOSPACE_Output import*"
   ]
  },
  {
   "cell_type": "code",
   "execution_count": null,
   "metadata": {},
   "outputs": [],
   "source": [
    "oms_project_path = os.path.dirname(os.getcwd())\n",
    "os.chdir(oms_project_path+'/output/Cavone/1')\n",
    "#os.listdir()"
   ]
  },
  {
   "cell_type": "markdown",
   "metadata": {},
   "source": [
    "## Read the Penman Monteith FAO output"
   ]
  },
  {
   "cell_type": "code",
   "execution_count": null,
   "metadata": {},
   "outputs": [],
   "source": [
    "#stiamo considerando il suolo nudo quindi non c'è vegetazione quindi i primi tre stress non ci sono\n",
    "#ora stiamo calcolando quella potenziale, anche con quello dell'h20\n",
    "#per trovare quello waterstress si usa un altro simfile sulla console\n",
    "#curve molto pulite perchè non c'è il clearnessindex\n",
    "df = pd.read_csv('Evaporation_FAO_1.csv',skiprows=6, sep=',', parse_dates=[0], na_values=-9999,usecols=[1,2])\n",
    "df.columns = ['Datetime','Evaporation']\n",
    "fig = px.line(df, x='Datetime', y='Evaporation', title='Evaporation PenmanMonteithFAO')\n",
    "\n",
    "\n",
    "df3 = pd.read_csv('WaterStressedEvaporation_FAO_1.csv',skiprows=6, sep=',', parse_dates=[0], na_values=-9999,usecols=[1,2])\n",
    "df3.columns = ['Datetime','Evaporation']\n",
    "fig = px.line(df3, x='Datetime', y='Evaporation', title='Actual Evaporation PenmanMonteithFAO')\n",
    "\n",
    "fig = px.line()\n",
    "fig.add_trace(go.Scatter(x=df['Datetime'], y=df['Evaporation'], mode='lines', name='Potential E'))\n",
    "fig.add_trace(go.Scatter(x=df3['Datetime'], y=df3['Evaporation'], mode='lines', name='Actual E'))\n",
    "\n",
    "fig.update_layout(\n",
    "    title='Compare Potential and Actual PenmanMonteithFAO Evaporation ',\n",
    "    xaxis_title=\"DateTime\",\n",
    "    font_family=\"Times New Roman\",\n",
    "    font_color=\"Black\",\n",
    "    title_font_family=\"Times New Roman\",\n",
    "    title_font_color=\"Black\",\n",
    "    yaxis_title=\"EvapoTranspiration [mm]\",\n",
    "    #legend_title=\"Date\",\n",
    "    font=dict(size=12))\n",
    "fig.show()\n"
   ]
  },
  {
   "cell_type": "code",
   "execution_count": null,
   "metadata": {},
   "outputs": [],
   "source": [
    "df2 = pd.read_csv('FluxEvaporation_FAO_1.csv',skiprows=6, sep=',', parse_dates=[0], na_values=-9999,usecols=[1,2])\n",
    "df2.columns = ['Datetime','LatentHeat']\n",
    "fig = px.line(df2, x='Datetime', y='LatentHeat', title='Latent Heat - PenmanMonteithFAO')\n",
    "\n",
    "df4 = pd.read_csv('WaterStressedFluxEvaporation_FAO_1.csv',skiprows=6, sep=',', parse_dates=[0], na_values=-9999,usecols=[1,2])\n",
    "df4.columns = ['Datetime','LatentHeat']\n",
    "fig = px.line(df4, x='Datetime', y='LatentHeat', title='Actual Latent Heat - PenmanMonteithFAO')\n",
    "\n",
    "fig = px.line()\n",
    "fig.add_trace(go.Scatter(x=df2['Datetime'], y=df2['LatentHeat'], mode='lines', name='Potential E'))\n",
    "fig.add_trace(go.Scatter(x=df4['Datetime'], y=df4['LatentHeat'], mode='lines', name='Actual E'))\n",
    "\n",
    "fig.update_layout(\n",
    "    title='Compare Potential and Actual PenmanMonteithFAO Evaporation ',\n",
    "    xaxis_title=\"DateTime\",\n",
    "    font_family=\"Times New Roman\",\n",
    "    font_color=\"Black\",\n",
    "    title_font_family=\"Times New Roman\",\n",
    "    title_font_color=\"Black\",\n",
    "    yaxis_title=\"EvapoTranspiration [mm]\",\n",
    "    #legend_title=\"Date\",\n",
    "    font=dict(size=12))\n",
    "fig.show()"
   ]
  },
  {
   "cell_type": "code",
   "execution_count": null,
   "metadata": {},
   "outputs": [],
   "source": [
    "#abbiamo trovato la stessa curva uindi gli stress non hanno influenzato\n",
    "# vado a cambiare la profondità"
   ]
  }
 ],
 "metadata": {
  "kernelspec": {
   "display_name": "Python 3 (ipykernel)",
   "language": "python",
   "name": "python3"
  },
  "language_info": {
   "codemirror_mode": {
    "name": "ipython",
    "version": 3
   },
   "file_extension": ".py",
   "mimetype": "text/x-python",
   "name": "python",
   "nbconvert_exporter": "python",
   "pygments_lexer": "ipython3",
   "version": "3.7.12"
  }
 },
 "nbformat": 4,
 "nbformat_minor": 4
}
